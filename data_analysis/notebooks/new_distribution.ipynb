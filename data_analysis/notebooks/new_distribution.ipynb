{
 "cells": [
  {
   "cell_type": "markdown",
   "id": "0e4fa039",
   "metadata": {},
   "source": [
    "Preliminary work:\n",
    "    - count 0s, 0.1s, and missing values"
   ]
  },
  {
   "cell_type": "code",
   "execution_count": 1,
   "id": "e3f58c36",
   "metadata": {
    "scrolled": false
   },
   "outputs": [
    {
     "data": {
      "text/plain": [
       "Index(['GeneName', 'ENSG', 'Overall', 'Overall_rank', 'GeneticsScore',\n",
       "       'OmicsScore', 'LiteratureScore', 'FlyNeuroPathScore',\n",
       "       'SM_Druggability_bucket', 'safety_bucket', 'feasibility_bucket',\n",
       "       'ABability_bucket', 'new_modality_bucket', 'tissue_engagement_bucket',\n",
       "       'Pharos_class', 'classification', 'safety_bucket_definition',\n",
       "       'feasibility_bucket_definition', 'ABability_bucket_definition',\n",
       "       'new_modality_bucket_definition', 'tissue_engagement_bucket_definition',\n",
       "       'isScored_genetics', 'isScored_omics', 'isScored_lit',\n",
       "       'isScored_neuropath'],\n",
       "      dtype='object')"
      ]
     },
     "execution_count": 1,
     "metadata": {},
     "output_type": "execute_result"
    }
   ],
   "source": [
    "import synapseclient\n",
    "import pandas as pd\n",
    "import numpy as np\n",
    "import json\n",
    "\n",
    "syn = synapseclient.Synapse()\n",
    "syn.login(silent=True)\n",
    "\n",
    "overall_scores = 'syn25575156'\n",
    "overall_scores = syn.tableQuery(f\"select * from {overall_scores}\").asDataFrame()\n",
    "# overall_scores = pd.read_json(overall_scores.path, orient='records')\n",
    "\n",
    "overall_scores.columns"
   ]
  },
  {
   "cell_type": "markdown",
   "id": "2aaef83f",
   "metadata": {},
   "source": [
    "Getting some information on how to deal with Overall Scores when they're 0."
   ]
  },
  {
   "cell_type": "code",
   "execution_count": 2,
   "id": "26e45ce0",
   "metadata": {},
   "outputs": [
    {
     "ename": "NameError",
     "evalue": "name 'interesting_columns' is not defined",
     "output_type": "error",
     "traceback": [
      "\u001b[0;31m---------------------------------------------------------------------------\u001b[0m",
      "\u001b[0;31mNameError\u001b[0m                                 Traceback (most recent call last)",
      "\u001b[0;32m<ipython-input-2-77798097c714>\u001b[0m in \u001b[0;36m<module>\u001b[0;34m\u001b[0m\n\u001b[0;32m----> 1\u001b[0;31m \u001b[0minteresting_ensembls\u001b[0m \u001b[0;34m=\u001b[0m \u001b[0moverall_scores\u001b[0m\u001b[0;34m[\u001b[0m\u001b[0minteresting_columns\u001b[0m\u001b[0;34m+\u001b[0m\u001b[0mscored\u001b[0m\u001b[0;34m]\u001b[0m\u001b[0;34m\u001b[0m\u001b[0;34m\u001b[0m\u001b[0m\n\u001b[0m\u001b[1;32m      2\u001b[0m \u001b[0mprint\u001b[0m\u001b[0;34m(\u001b[0m\u001b[0;34m\"Missing Overall Values: \"\u001b[0m \u001b[0;34m+\u001b[0m \u001b[0mstr\u001b[0m\u001b[0;34m(\u001b[0m\u001b[0minteresting_ensembls\u001b[0m\u001b[0;34m[\u001b[0m\u001b[0minteresting_ensembls\u001b[0m\u001b[0;34m[\u001b[0m\u001b[0;34m'Overall'\u001b[0m\u001b[0;34m]\u001b[0m\u001b[0;34m.\u001b[0m\u001b[0misna\u001b[0m\u001b[0;34m(\u001b[0m\u001b[0;34m)\u001b[0m\u001b[0;34m]\u001b[0m\u001b[0;34m.\u001b[0m\u001b[0mshape\u001b[0m\u001b[0;34m[\u001b[0m\u001b[0;36m0\u001b[0m\u001b[0;34m]\u001b[0m\u001b[0;34m)\u001b[0m\u001b[0;34m)\u001b[0m\u001b[0;34m\u001b[0m\u001b[0;34m\u001b[0m\u001b[0m\n\u001b[1;32m      3\u001b[0m \u001b[0mprint\u001b[0m\u001b[0;34m(\u001b[0m\u001b[0;34m\"Overall == 0: \"\u001b[0m \u001b[0;34m+\u001b[0m \u001b[0mstr\u001b[0m\u001b[0;34m(\u001b[0m\u001b[0minteresting_ensembls\u001b[0m\u001b[0;34m[\u001b[0m\u001b[0minteresting_ensembls\u001b[0m\u001b[0;34m[\u001b[0m\u001b[0;34m'Overall'\u001b[0m\u001b[0;34m]\u001b[0m\u001b[0;34m==\u001b[0m\u001b[0;36m0\u001b[0m\u001b[0;34m]\u001b[0m\u001b[0;34m.\u001b[0m\u001b[0mshape\u001b[0m\u001b[0;34m[\u001b[0m\u001b[0;36m0\u001b[0m\u001b[0;34m]\u001b[0m\u001b[0;34m)\u001b[0m\u001b[0;34m)\u001b[0m\u001b[0;34m\u001b[0m\u001b[0;34m\u001b[0m\u001b[0m\n\u001b[1;32m      4\u001b[0m \u001b[0mzeros\u001b[0m \u001b[0;34m=\u001b[0m \u001b[0minteresting_ensembls\u001b[0m\u001b[0;34m[\u001b[0m\u001b[0minteresting_ensembls\u001b[0m\u001b[0;34m[\u001b[0m\u001b[0;34m'Overall'\u001b[0m\u001b[0;34m]\u001b[0m\u001b[0;34m==\u001b[0m\u001b[0;36m0\u001b[0m\u001b[0;34m]\u001b[0m\u001b[0;34m\u001b[0m\u001b[0;34m\u001b[0m\u001b[0m\n\u001b[1;32m      5\u001b[0m \u001b[0mprint\u001b[0m\u001b[0;34m(\u001b[0m\u001b[0;34m\"Overall == 0 AND any of the isScored columns == 'Y': \"\u001b[0m \u001b[0;34m+\u001b[0m \u001b[0mstr\u001b[0m\u001b[0;34m(\u001b[0m\u001b[0mzeros\u001b[0m\u001b[0;34m[\u001b[0m\u001b[0mzeros\u001b[0m\u001b[0;34m.\u001b[0m\u001b[0misin\u001b[0m\u001b[0;34m(\u001b[0m\u001b[0;34m[\u001b[0m\u001b[0;34m'Y'\u001b[0m\u001b[0;34m]\u001b[0m\u001b[0;34m)\u001b[0m\u001b[0;34m.\u001b[0m\u001b[0many\u001b[0m\u001b[0;34m(\u001b[0m\u001b[0maxis\u001b[0m\u001b[0;34m=\u001b[0m\u001b[0;36m1\u001b[0m\u001b[0;34m)\u001b[0m\u001b[0;34m]\u001b[0m\u001b[0;34m.\u001b[0m\u001b[0mshape\u001b[0m\u001b[0;34m[\u001b[0m\u001b[0;36m0\u001b[0m\u001b[0;34m]\u001b[0m\u001b[0;34m)\u001b[0m\u001b[0;34m)\u001b[0m\u001b[0;34m\u001b[0m\u001b[0;34m\u001b[0m\u001b[0m\n",
      "\u001b[0;31mNameError\u001b[0m: name 'interesting_columns' is not defined"
     ]
    }
   ],
   "source": [
    "interesting_ensembls = overall_scores[interesting_columns+scored]\n",
    "print(\"Missing Overall Values: \" + str(interesting_ensembls[interesting_ensembls['Overall'].isna()].shape[0]))\n",
    "print(\"Overall == 0: \" + str(interesting_ensembls[interesting_ensembls['Overall']==0].shape[0]))\n",
    "zeros = interesting_ensembls[interesting_ensembls['Overall']==0]\n",
    "print(\"Overall == 0 AND any of the isScored columns == 'Y': \" + str(zeros[zeros.isin(['Y']).any(axis=1)].shape[0]))"
   ]
  },
  {
   "cell_type": "markdown",
   "id": "0b3d65d6",
   "metadata": {},
   "source": [
    "It turns out whenever they're 0, at least one of the isScored columns is 'Y'.  We don't have to exclude any of them, but I'll add it to the calculation fuction in case that case arises in the future.  Here I create a mapping of the columns and their corresponding isScored flag:"
   ]
  },
  {
   "cell_type": "code",
   "execution_count": null,
   "id": "c90f663c",
   "metadata": {
    "scrolled": false
   },
   "outputs": [],
   "source": [
    "interesting_columns = ['ENSG', 'Overall', 'GeneticsScore', 'OmicsScore', 'LiteratureScore']\n",
    "scored = ['isScored_genetics', 'isScored_omics', 'isScored_lit']\n",
    "mapping = dict(zip(interesting_columns[2:], scored))\n",
    "mapping['Overall'] = None\n",
    "mapping"
   ]
  },
  {
   "cell_type": "markdown",
   "id": "5e496caf",
   "metadata": {},
   "source": [
    "Function to calculate distribution.  We should see a warning when running this function that we're trying to modify a copy of a dataframe.  This is exactly what we want to do in this case."
   ]
  },
  {
   "cell_type": "code",
   "execution_count": null,
   "id": "4b497e6b",
   "metadata": {},
   "outputs": [],
   "source": [
    "def calculate_distribution(df, col, is_scored = None):\n",
    "\n",
    "    if is_scored is not None:\n",
    "        df = df[df[is_scored]=='Y']\n",
    "    else:\n",
    "        df = df[df.isin(['Y']).any(axis=1)]\n",
    "\n",
    "    if df[col].dtype == object:\n",
    "        df[col] = df[col].astype(float)\n",
    "    \n",
    "    obj = {}\n",
    "    \n",
    "    obj[\"distribution\"] = list(pd.cut(df[col], bins=10, precision=3).value_counts())\n",
    "    obj[\"min\"] = np.around(df[col].min(), 4)\n",
    "    obj[\"max\"] = np.around(df[col].max(), 4)\n",
    "    obj[\"mean\"] = np.around(df[col].mean(), 4)\n",
    "    discard, obj[\"bins\"] = list(pd.cut(df[col], bins=10, precision=3, retbins=True))\n",
    "    obj[\"bins\"] = np.around(obj[\"bins\"].tolist()[1:], 2)\n",
    "    base = [0, *obj[\"bins\"][:-1]]\n",
    "    obj[\"bins\"] = zip(base, obj[\"bins\"])\n",
    "    obj[\"bins\"] = list(obj[\"bins\"])\n",
    "    obj[\"first_quartile\"] = np.around(df[col].quantile(q=0.25, interpolation='midpoint'))\n",
    "    obj[\"third_quartile\"] = np.around(df[col].quantile(q=0.75, interpolation='midpoint'))\n",
    "    \n",
    "    return obj"
   ]
  },
  {
   "cell_type": "code",
   "execution_count": null,
   "id": "9acb4928",
   "metadata": {
    "scrolled": true
   },
   "outputs": [],
   "source": [
    "neo_matrix = {}\n",
    "for col in interesting_columns[1:]: # excludes the ENSG\n",
    "    neo_matrix[col] = calculate_distribution(overall_scores, col, mapping[col])"
   ]
  },
  {
   "cell_type": "code",
   "execution_count": null,
   "id": "5e5bce34",
   "metadata": {},
   "outputs": [],
   "source": [
    "additional_data = [{'name': 'Overall Score', 'syn_id': 'syn25913473', 'wiki_id': '613107'},\n",
    "                    {'name': 'Genetics Score', 'syn_id': 'syn25913473', 'wiki_id': '613104'},\n",
    "                    {'name': 'Genomics Score', 'syn_id': 'syn25913473', 'wiki_id': '613106'},\n",
    "                    {'name': 'Literature Score', 'syn_id': 'syn25913473', 'wiki_id': '613105'}\n",
    "                  ]\n",
    "for col, additional in zip(neo_matrix.keys(), additional_data):\n",
    "    neo_matrix[col]['name'] = additional['name']\n",
    "    neo_matrix[col]['syn_id'] = additional['syn_id']\n",
    "    neo_matrix[col]['wiki_id'] = additional['wiki_id']\n",
    "    \n",
    "print(neo_matrix)\n"
   ]
  },
  {
   "cell_type": "code",
   "execution_count": null,
   "id": "c6ba7874",
   "metadata": {},
   "outputs": [],
   "source": [
    "with open('../output/distribution_data.json', 'w') as outfile:\n",
    "    json.dump(neo_matrix, outfile)"
   ]
  },
  {
   "cell_type": "code",
   "execution_count": null,
   "id": "7fea6857",
   "metadata": {},
   "outputs": [],
   "source": []
  }
 ],
 "metadata": {
  "kernelspec": {
   "display_name": "Python 3",
   "language": "python",
   "name": "python3"
  },
  "language_info": {
   "codemirror_mode": {
    "name": "ipython",
    "version": 3
   },
   "file_extension": ".py",
   "mimetype": "text/x-python",
   "name": "python",
   "nbconvert_exporter": "python",
   "pygments_lexer": "ipython3",
   "version": "3.9.0"
  }
 },
 "nbformat": 4,
 "nbformat_minor": 5
}
