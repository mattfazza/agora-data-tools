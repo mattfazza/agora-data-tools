{
 "cells": [
  {
   "cell_type": "markdown",
   "id": "0e4fa039",
   "metadata": {},
   "source": [
    "Preliminary work:\n",
    "    - count 0s, 0.1s, and missing values"
   ]
  },
  {
   "cell_type": "code",
   "execution_count": 125,
   "id": "e3f58c36",
   "metadata": {
    "scrolled": false
   },
   "outputs": [
    {
     "data": {
      "text/plain": [
       "Index(['GeneName', 'ENSG', 'Overall', 'Overall_rank', 'GeneticsScore',\n",
       "       'OmicsScore', 'LiteratureScore', 'FlyNeuroPathScore',\n",
       "       'SM_Druggability_bucket', 'safety_bucket', 'feasibility_bucket',\n",
       "       'ABability_bucket', 'new_modality_bucket', 'tissue_engagement_bucket',\n",
       "       'Pharos_class', 'classification', 'safety_bucket_definition',\n",
       "       'feasibility_bucket_definition', 'ABability_bucket_definition',\n",
       "       'new_modality_bucket_definition', 'tissue_engagement_bucket_definition',\n",
       "       'isScored_genetics', 'isScored_omics', 'isScored_lit',\n",
       "       'isScored_neuropath'],\n",
       "      dtype='object')"
      ]
     },
     "execution_count": 125,
     "metadata": {},
     "output_type": "execute_result"
    }
   ],
   "source": [
    "import synapseclient\n",
    "import pandas as pd\n",
    "import numpy as np\n",
    "import json\n",
    "\n",
    "syn = synapseclient.Synapse()\n",
    "syn.login(silent=True)\n",
    "\n",
    "overall_scores = 'syn25575156'\n",
    "overall_scores = syn.tableQuery(f\"select * from {overall_scores}\").asDataFrame()\n",
    "# overall_scores = pd.read_json(overall_scores.path, orient='records')\n",
    "\n",
    "overall_scores.columns"
   ]
  },
  {
   "cell_type": "code",
   "execution_count": 126,
   "id": "c1723543",
   "metadata": {},
   "outputs": [
    {
     "data": {
      "text/plain": [
       "{'GeneticsScore': 'isScored_genetics',\n",
       " 'OmicsScore': 'isScored_omics',\n",
       " 'LiteratureScore': 'isScored_lit',\n",
       " 'FlyNeuroPathScore': 'isScored_neuropath',\n",
       " 'Overall': None}"
      ]
     },
     "execution_count": 126,
     "metadata": {},
     "output_type": "execute_result"
    }
   ],
   "source": [
    "interesting_columns = ['ENSG', 'Overall', 'GeneticsScore', 'OmicsScore', 'LiteratureScore', 'FlyNeuroPathScore']\n",
    "scored = ['isScored_genetics', 'isScored_omics', 'isScored_lit', 'isScored_neuropath']\n",
    "mapping = dict(zip(interesting_columns[2:], scored))\n",
    "mapping['Overall'] = None\n",
    "mapping"
   ]
  },
  {
   "cell_type": "code",
   "execution_count": null,
   "id": "7c195aae",
   "metadata": {},
   "outputs": [],
   "source": [
    "# Select the correct columns\n",
    "interesting_ensembls = overall_scores[interesting_columns]\n",
    "interesting_ensembls[interesting_ensembls.isin(['N']).any(axis=1)]\n",
    "# print(overall_scores.shape)\n",
    "# print(interesting_ensembls.shape)"
   ]
  },
  {
   "cell_type": "code",
   "execution_count": 132,
   "id": "ee89c0e9",
   "metadata": {},
   "outputs": [],
   "source": [
    "def calculate_distribution(df, col, is_scored = None):\n",
    "\n",
    "    if is_scored is not None:\n",
    "        df = df[df[is_scored]=='Y']\n",
    "\n",
    "    if df[col].dtype == object:\n",
    "        df[col] = df[col].astype(float)\n",
    "    \n",
    "    obj = {}\n",
    "    \n",
    "    obj[\"distribution\"] = list(pd.cut(df[col], bins=10, precision=3).value_counts())\n",
    "    obj[\"min\"] = np.around(df[col].min(), 4)\n",
    "    obj[\"max\"] = np.around(df[col].max(), 4)\n",
    "    obj[\"mean\"] = np.around(df[col].mean(), 4)\n",
    "    discard, obj[\"bins\"] = list(pd.cut(df[col], bins=10, precision=3, retbins=True))\n",
    "    obj[\"bins\"] = np.around(obj[\"bins\"].tolist()[1:], 2)\n",
    "    base = [0, *obj[\"bins\"][:-1]]\n",
    "    obj[\"bins\"] = zip(base, obj[\"bins\"])\n",
    "    obj[\"bins\"] = list(obj[\"bins\"])\n",
    "    obj[\"first_quartile\"] = np.around(df[col].quantile(q=0.25, interpolation='midpoint'))\n",
    "    obj[\"third_quartile\"] = np.around(df[col].quantile(q=0.75, interpolation='midpoint'))\n",
    "    \n",
    "    return obj"
   ]
  },
  {
   "cell_type": "code",
   "execution_count": 133,
   "id": "1a2ec82a",
   "metadata": {},
   "outputs": [
    {
     "name": "stderr",
     "output_type": "stream",
     "text": [
      "[WARNING] <ipython-input-132-128c03b26d77>:7: SettingWithCopyWarning: \n",
      "A value is trying to be set on a copy of a slice from a DataFrame.\n",
      "Try using .loc[row_indexer,col_indexer] = value instead\n",
      "\n",
      "See the caveats in the documentation: https://pandas.pydata.org/pandas-docs/stable/user_guide/indexing.html#returning-a-view-versus-a-copy\n",
      "  df[col] = df[col].astype(float)\n",
      "\n"
     ]
    }
   ],
   "source": [
    "neo_matrix = {}\n",
    "for col in interesting_columns[1:]: # excludes the ENSG\n",
    "    neo_matrix[col] = calculate_distribution(overall_scores, col, mapping[col])"
   ]
  },
  {
   "cell_type": "code",
   "execution_count": 134,
   "id": "19938213",
   "metadata": {},
   "outputs": [
    {
     "name": "stdout",
     "output_type": "stream",
     "text": [
      "{'Overall': {'distribution': [5141, 4253, 4143, 3590, 3146, 1733, 975, 346, 41, 18], 'min': 0.0, 'max': 7.5374, 'mean': 2.175, 'bins': [(0, 0.75), (0.75, 1.51), (1.51, 2.26), (2.26, 3.01), (3.01, 3.77), (3.77, 4.52), (4.52, 5.28), (5.28, 6.03), (6.03, 6.78), (6.78, 7.54)], 'first_quartile': 1.0, 'third_quartile': 3.0}, 'GeneticsScore': {'distribution': [4748, 4678, 4655, 3013, 2321, 1265, 567, 399, 74, 9], 'min': 0.0048, 'max': 3.0, 'mean': 1.2605, 'bins': [(0, 0.3), (0.3, 0.6), (0.6, 0.9), (0.9, 1.2), (1.2, 1.5), (1.5, 1.8), (1.8, 2.1), (2.1, 2.4), (2.4, 2.7), (2.7, 3.0)], 'first_quartile': 1.0, 'third_quartile': 2.0}, 'OmicsScore': {'distribution': [10592, 2523, 2298, 1568, 1278, 1254, 1145, 873, 852, 457], 'min': 0.0, 'max': 2.0, 'mean': 0.6768, 'bins': [(0, 0.2), (0.2, 0.4), (0.4, 0.6), (0.6, 0.8), (0.8, 1.0), (1.0, 1.2), (1.2, 1.4), (1.4, 1.6), (1.6, 1.8), (1.8, 2.0)], 'first_quartile': 0.0, 'third_quartile': 1.0}, 'LiteratureScore': {'distribution': [8008, 1390, 1103, 1086, 730, 723, 719, 700, 364, 339], 'min': 0.0, 'max': 2.0, 'mean': 0.5016, 'bins': [(0, 0.2), (0.2, 0.4), (0.4, 0.6), (0.6, 0.8), (0.8, 1.0), (1.0, 1.2), (1.2, 1.4), (1.4, 1.6), (1.6, 1.8), (1.8, 2.0)], 'first_quartile': 0.0, 'third_quartile': 1.0}, 'FlyNeuroPathScore': {'distribution': [14892, 139, 136, 0, 0, 0, 0, 0, 0, 0], 'min': 0, 'max': 2, 'mean': 0.0273, 'bins': [(0, 0.2), (0.2, 0.4), (0.4, 0.6), (0.6, 0.8), (0.8, 1.0), (1.0, 1.2), (1.2, 1.4), (1.4, 1.6), (1.6, 1.8), (1.8, 2.0)], 'first_quartile': 0.0, 'third_quartile': 0.0}}\n"
     ]
    }
   ],
   "source": [
    "print(neo_matrix)"
   ]
  },
  {
   "cell_type": "code",
   "execution_count": 66,
   "id": "16ff1631",
   "metadata": {
    "scrolled": true
   },
   "outputs": [
    {
     "ename": "TypeError",
     "evalue": "can only concatenate str (not \"float\") to str",
     "output_type": "error",
     "traceback": [
      "\u001b[0;31m---------------------------------------------------------------------------\u001b[0m",
      "\u001b[0;31mTypeError\u001b[0m                                 Traceback (most recent call last)",
      "\u001b[0;32m<ipython-input-66-fca03779e723>\u001b[0m in \u001b[0;36m<module>\u001b[0;34m\u001b[0m\n\u001b[1;32m      3\u001b[0m \u001b[0;32mfor\u001b[0m \u001b[0mcol\u001b[0m \u001b[0;32min\u001b[0m \u001b[0mselect_columns\u001b[0m\u001b[0;34m:\u001b[0m\u001b[0;34m\u001b[0m\u001b[0;34m\u001b[0m\u001b[0m\n\u001b[1;32m      4\u001b[0m     \u001b[0mneo_matrix\u001b[0m\u001b[0;34m[\u001b[0m\u001b[0mcol\u001b[0m\u001b[0;34m]\u001b[0m \u001b[0;34m=\u001b[0m \u001b[0;34m{\u001b[0m\u001b[0;34m}\u001b[0m\u001b[0;34m\u001b[0m\u001b[0;34m\u001b[0m\u001b[0m\n\u001b[0;32m----> 5\u001b[0;31m     \u001b[0mneo_matrix\u001b[0m\u001b[0;34m[\u001b[0m\u001b[0mcol\u001b[0m\u001b[0;34m]\u001b[0m\u001b[0;34m[\u001b[0m\u001b[0;34m\"distribution\"\u001b[0m\u001b[0;34m]\u001b[0m \u001b[0;34m=\u001b[0m \u001b[0mlist\u001b[0m\u001b[0;34m(\u001b[0m\u001b[0mpd\u001b[0m\u001b[0;34m.\u001b[0m\u001b[0mcut\u001b[0m\u001b[0;34m(\u001b[0m\u001b[0moverall_scores\u001b[0m\u001b[0;34m[\u001b[0m\u001b[0mcol\u001b[0m\u001b[0;34m]\u001b[0m\u001b[0;34m,\u001b[0m \u001b[0mbins\u001b[0m\u001b[0;34m=\u001b[0m\u001b[0;36m10\u001b[0m\u001b[0;34m,\u001b[0m \u001b[0mprecision\u001b[0m\u001b[0;34m=\u001b[0m\u001b[0;36m4\u001b[0m\u001b[0;34m)\u001b[0m\u001b[0;34m.\u001b[0m\u001b[0mvalue_counts\u001b[0m\u001b[0;34m(\u001b[0m\u001b[0;34m)\u001b[0m\u001b[0;34m)\u001b[0m\u001b[0;34m\u001b[0m\u001b[0;34m\u001b[0m\u001b[0m\n\u001b[0m\u001b[1;32m      6\u001b[0m     \u001b[0mneo_matrix\u001b[0m\u001b[0;34m[\u001b[0m\u001b[0mcol\u001b[0m\u001b[0;34m]\u001b[0m\u001b[0;34m[\u001b[0m\u001b[0;34m\"min\"\u001b[0m\u001b[0;34m]\u001b[0m \u001b[0;34m=\u001b[0m \u001b[0mnp\u001b[0m\u001b[0;34m.\u001b[0m\u001b[0maround\u001b[0m\u001b[0;34m(\u001b[0m\u001b[0moverall_scores\u001b[0m\u001b[0;34m[\u001b[0m\u001b[0mcol\u001b[0m\u001b[0;34m]\u001b[0m\u001b[0;34m.\u001b[0m\u001b[0mmin\u001b[0m\u001b[0;34m(\u001b[0m\u001b[0;34m)\u001b[0m\u001b[0;34m,\u001b[0m \u001b[0;36m4\u001b[0m\u001b[0;34m)\u001b[0m\u001b[0;34m\u001b[0m\u001b[0;34m\u001b[0m\u001b[0m\n\u001b[1;32m      7\u001b[0m     \u001b[0mneo_matrix\u001b[0m\u001b[0;34m[\u001b[0m\u001b[0mcol\u001b[0m\u001b[0;34m]\u001b[0m\u001b[0;34m[\u001b[0m\u001b[0;34m\"max\"\u001b[0m\u001b[0;34m]\u001b[0m \u001b[0;34m=\u001b[0m \u001b[0mnp\u001b[0m\u001b[0;34m.\u001b[0m\u001b[0maround\u001b[0m\u001b[0;34m(\u001b[0m\u001b[0moverall_scores\u001b[0m\u001b[0;34m[\u001b[0m\u001b[0mcol\u001b[0m\u001b[0;34m]\u001b[0m\u001b[0;34m.\u001b[0m\u001b[0mmax\u001b[0m\u001b[0;34m(\u001b[0m\u001b[0;34m)\u001b[0m\u001b[0;34m,\u001b[0m \u001b[0;36m4\u001b[0m\u001b[0;34m)\u001b[0m\u001b[0;34m\u001b[0m\u001b[0;34m\u001b[0m\u001b[0m\n",
      "\u001b[0;32m~/.pyenv/versions/3.9.0/lib/python3.9/site-packages/pandas/core/reshape/tile.py\u001b[0m in \u001b[0;36mcut\u001b[0;34m(x, bins, right, labels, retbins, precision, include_lowest, duplicates, ordered)\u001b[0m\n\u001b[1;32m    237\u001b[0m \u001b[0;34m\u001b[0m\u001b[0m\n\u001b[1;32m    238\u001b[0m         \u001b[0mrng\u001b[0m \u001b[0;34m=\u001b[0m \u001b[0;34m(\u001b[0m\u001b[0mnanops\u001b[0m\u001b[0;34m.\u001b[0m\u001b[0mnanmin\u001b[0m\u001b[0;34m(\u001b[0m\u001b[0mx\u001b[0m\u001b[0;34m)\u001b[0m\u001b[0;34m,\u001b[0m \u001b[0mnanops\u001b[0m\u001b[0;34m.\u001b[0m\u001b[0mnanmax\u001b[0m\u001b[0;34m(\u001b[0m\u001b[0mx\u001b[0m\u001b[0;34m)\u001b[0m\u001b[0;34m)\u001b[0m\u001b[0;34m\u001b[0m\u001b[0;34m\u001b[0m\u001b[0m\n\u001b[0;32m--> 239\u001b[0;31m         \u001b[0mmn\u001b[0m\u001b[0;34m,\u001b[0m \u001b[0mmx\u001b[0m \u001b[0;34m=\u001b[0m \u001b[0;34m[\u001b[0m\u001b[0mmi\u001b[0m \u001b[0;34m+\u001b[0m \u001b[0;36m0.0\u001b[0m \u001b[0;32mfor\u001b[0m \u001b[0mmi\u001b[0m \u001b[0;32min\u001b[0m \u001b[0mrng\u001b[0m\u001b[0;34m]\u001b[0m\u001b[0;34m\u001b[0m\u001b[0;34m\u001b[0m\u001b[0m\n\u001b[0m\u001b[1;32m    240\u001b[0m \u001b[0;34m\u001b[0m\u001b[0m\n\u001b[1;32m    241\u001b[0m         \u001b[0;32mif\u001b[0m \u001b[0mnp\u001b[0m\u001b[0;34m.\u001b[0m\u001b[0misinf\u001b[0m\u001b[0;34m(\u001b[0m\u001b[0mmn\u001b[0m\u001b[0;34m)\u001b[0m \u001b[0;32mor\u001b[0m \u001b[0mnp\u001b[0m\u001b[0;34m.\u001b[0m\u001b[0misinf\u001b[0m\u001b[0;34m(\u001b[0m\u001b[0mmx\u001b[0m\u001b[0;34m)\u001b[0m\u001b[0;34m:\u001b[0m\u001b[0;34m\u001b[0m\u001b[0;34m\u001b[0m\u001b[0m\n",
      "\u001b[0;32m~/.pyenv/versions/3.9.0/lib/python3.9/site-packages/pandas/core/reshape/tile.py\u001b[0m in \u001b[0;36m<listcomp>\u001b[0;34m(.0)\u001b[0m\n\u001b[1;32m    237\u001b[0m \u001b[0;34m\u001b[0m\u001b[0m\n\u001b[1;32m    238\u001b[0m         \u001b[0mrng\u001b[0m \u001b[0;34m=\u001b[0m \u001b[0;34m(\u001b[0m\u001b[0mnanops\u001b[0m\u001b[0;34m.\u001b[0m\u001b[0mnanmin\u001b[0m\u001b[0;34m(\u001b[0m\u001b[0mx\u001b[0m\u001b[0;34m)\u001b[0m\u001b[0;34m,\u001b[0m \u001b[0mnanops\u001b[0m\u001b[0;34m.\u001b[0m\u001b[0mnanmax\u001b[0m\u001b[0;34m(\u001b[0m\u001b[0mx\u001b[0m\u001b[0;34m)\u001b[0m\u001b[0;34m)\u001b[0m\u001b[0;34m\u001b[0m\u001b[0;34m\u001b[0m\u001b[0m\n\u001b[0;32m--> 239\u001b[0;31m         \u001b[0mmn\u001b[0m\u001b[0;34m,\u001b[0m \u001b[0mmx\u001b[0m \u001b[0;34m=\u001b[0m \u001b[0;34m[\u001b[0m\u001b[0mmi\u001b[0m \u001b[0;34m+\u001b[0m \u001b[0;36m0.0\u001b[0m \u001b[0;32mfor\u001b[0m \u001b[0mmi\u001b[0m \u001b[0;32min\u001b[0m \u001b[0mrng\u001b[0m\u001b[0;34m]\u001b[0m\u001b[0;34m\u001b[0m\u001b[0;34m\u001b[0m\u001b[0m\n\u001b[0m\u001b[1;32m    240\u001b[0m \u001b[0;34m\u001b[0m\u001b[0m\n\u001b[1;32m    241\u001b[0m         \u001b[0;32mif\u001b[0m \u001b[0mnp\u001b[0m\u001b[0;34m.\u001b[0m\u001b[0misinf\u001b[0m\u001b[0;34m(\u001b[0m\u001b[0mmn\u001b[0m\u001b[0;34m)\u001b[0m \u001b[0;32mor\u001b[0m \u001b[0mnp\u001b[0m\u001b[0;34m.\u001b[0m\u001b[0misinf\u001b[0m\u001b[0;34m(\u001b[0m\u001b[0mmx\u001b[0m\u001b[0;34m)\u001b[0m\u001b[0;34m:\u001b[0m\u001b[0;34m\u001b[0m\u001b[0;34m\u001b[0m\u001b[0m\n",
      "\u001b[0;31mTypeError\u001b[0m: can only concatenate str (not \"float\") to str"
     ]
    }
   ],
   "source": [
    "neo_matrix = {}\n",
    "select_columns = overall_scores.columns[2:]\n",
    "for col in select_columns:\n",
    "    neo_matrix[col] = {}\n",
    "    neo_matrix[col][\"distribution\"] = list(pd.cut(overall_scores[col], bins=10, precision=4).value_counts())\n",
    "    neo_matrix[col][\"min\"] = np.around(overall_scores[col].min(), 4)\n",
    "    neo_matrix[col][\"max\"] = np.around(overall_scores[col].max(), 4)\n",
    "    neo_matrix[col][\"mean\"] = np.around(overall_scores[col].mean(), 4)\n",
    "    discard, neo_matrix[col][\"bins\"] = list(pd.cut(overall_scores[col], bins=10, precision=4, retbins=True))\n",
    "    neo_matrix[col][\"bins\"] = np.around(neo_matrix[col][\"bins\"].tolist()[1:], 4)\n",
    "    base = [0, *neo_matrix[col][\"bins\"][:-1]]\n",
    "    neo_matrix[col][\"bins\"] = zip(base, neo_matrix[col][\"bins\"])\n",
    "    neo_matrix[col][\"bins\"] = list(neo_matrix[col][\"bins\"])\n",
    "    neo_matrix[col][\"first_quartile\"] = np.around(overall_scores[col].quantile(q=0.25, interpolation='midpoint'))\n",
    "    neo_matrix[col][\"third_quartile\"] = np.around(overall_scores[col].quantile(q=0.75, interpolation='midpoint'))"
   ]
  },
  {
   "cell_type": "code",
   "execution_count": 67,
   "id": "5e5bce34",
   "metadata": {},
   "outputs": [
    {
     "name": "stdout",
     "output_type": "stream",
     "text": [
      "{'Overall': {'distribution': [5141, 4253, 4143, 3590, 3146, 1733, 975, 346, 41, 18], 'min': 0.0, 'max': 7.5374, 'mean': 2.175, 'bins': [(0, 0.7537), (0.7537, 1.5075), (1.5075, 2.2612), (2.2612, 3.0149), (3.0149, 3.7687), (3.7687, 4.5224), (4.5224, 5.2761), (5.2761, 6.0299), (6.0299, 6.7836), (6.7836, 7.5374)], 'first_quartile': 1.0, 'third_quartile': 3.0, 'name': 'Overall Score', 'syn_id': 'syn25913473', 'wiki_id': '613107'}, 'Overall_rank': {'distribution': [2339, 2339, 2339, 2339, 2339, 2339, 2338, 2338, 2338, 2338], 'min': 1, 'max': 23386, 'mean': 11713.4338, 'bins': [(0, 2339.5), (2339.5, 4678.0), (4678.0, 7016.5), (7016.5, 9355.0), (9355.0, 11693.5), (11693.5, 14032.0), (14032.0, 16370.5), (16370.5, 18709.0), (18709.0, 21047.5), (21047.5, 23386.0)], 'first_quartile': 5848.0, 'third_quartile': 17540.0, 'name': 'Genetics Score', 'syn_id': 'syn25913473', 'wiki_id': '613104'}, 'GeneticsScore': {'distribution': [4760, 4693, 4679, 2993, 2346, 2055, 1206, 570, 75, 9], 'min': 0.0, 'max': 3.0, 'mean': 1.1712, 'bins': [(0, 0.3), (0.3, 0.6), (0.6, 0.9), (0.9, 1.2), (1.2, 1.5), (1.5, 1.8), (1.8, 2.1), (2.1, 2.4), (2.4, 2.7), (2.7, 3.0)], 'first_quartile': 1.0, 'third_quartile': 2.0, 'name': 'Genomics Score', 'syn_id': 'syn25913473', 'wiki_id': '613106'}, 'OmicsScore': {'distribution': [11138, 2523, 2298, 1568, 1278, 1254, 1145, 873, 852, 457], 'min': 0.0, 'max': 2.0, 'mean': 0.661, 'bins': [(0, 0.2), (0.2, 0.4), (0.4, 0.6), (0.6, 0.8), (0.8, 1.0), (1.0, 1.2), (1.2, 1.4), (1.4, 1.6), (1.6, 1.8), (1.8, 2.0)], 'first_quartile': 0.0, 'third_quartile': 1.0, 'name': 'Literature Score', 'syn_id': 'syn25913473', 'wiki_id': '613105'}, 'LiteratureScore': {}}\n"
     ]
    }
   ],
   "source": [
    "additional_data = [{'name': 'Overall Score', 'syn_id': 'syn25913473', 'wiki_id': '613107'},\n",
    "                    {'name': 'Genetics Score', 'syn_id': 'syn25913473', 'wiki_id': '613104'},\n",
    "                    {'name': 'Genomics Score', 'syn_id': 'syn25913473', 'wiki_id': '613106'},\n",
    "                    {'name': 'Literature Score', 'syn_id': 'syn25913473', 'wiki_id': '613105'}\n",
    "                  ]\n",
    "for col, additional in zip(neo_matrix.keys(), additional_data):\n",
    "    neo_matrix[col]['name'] = additional['name']\n",
    "    neo_matrix[col]['syn_id'] = additional['syn_id']\n",
    "    neo_matrix[col]['wiki_id'] = additional['wiki_id']\n",
    "    \n",
    "print(neo_matrix)\n"
   ]
  },
  {
   "cell_type": "code",
   "execution_count": 4,
   "id": "c6ba7874",
   "metadata": {},
   "outputs": [],
   "source": [
    "with open('../output/distribution_data.json', 'w') as outfile:\n",
    "    json.dump(neo_matrix, outfile)"
   ]
  },
  {
   "cell_type": "code",
   "execution_count": null,
   "id": "7fea6857",
   "metadata": {},
   "outputs": [],
   "source": []
  }
 ],
 "metadata": {
  "kernelspec": {
   "display_name": "Python 3",
   "language": "python",
   "name": "python3"
  },
  "language_info": {
   "codemirror_mode": {
    "name": "ipython",
    "version": 3
   },
   "file_extension": ".py",
   "mimetype": "text/x-python",
   "name": "python",
   "nbconvert_exporter": "python",
   "pygments_lexer": "ipython3",
   "version": "3.9.0"
  }
 },
 "nbformat": 4,
 "nbformat_minor": 5
}
