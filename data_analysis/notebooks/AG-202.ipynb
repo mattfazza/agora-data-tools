{
 "cells": [
  {
   "cell_type": "markdown",
   "id": "0e4fa039",
   "metadata": {},
   "source": [
    "Preliminary work:\n",
    "    - count 0s, 0.1s, and missing values"
   ]
  },
  {
   "cell_type": "code",
   "execution_count": 1,
   "id": "e3f58c36",
   "metadata": {},
   "outputs": [
    {
     "data": {
      "text/plain": [
       "Index(['ENSG', 'GeneName', 'Logsdon', 'GeneticsScore', 'OmicsScore',\n",
       "       'LiteratureScore'],\n",
       "      dtype='object')"
      ]
     },
     "execution_count": 1,
     "metadata": {},
     "output_type": "execute_result"
    }
   ],
   "source": [
    "import synapseclient\n",
    "import pandas as pd\n",
    "import numpy as np\n",
    "import json\n",
    "\n",
    "syn = synapseclient.Synapse()\n",
    "syn.login(silent=True)\n",
    "\n",
    "overall_scores = 'syn25905783'\n",
    "overall_scores = syn.get(overall_scores, version=57)\n",
    "overall_scores = pd.read_json(overall_scores.path, orient='records')\n",
    "\n",
    "overall_scores.columns"
   ]
  },
  {
   "cell_type": "markdown",
   "id": "28392d2f",
   "metadata": {},
   "source": [
    "min and max of each field as column:"
   ]
  },
  {
   "cell_type": "code",
   "execution_count": 2,
   "id": "16ff1631",
   "metadata": {
    "scrolled": true
   },
   "outputs": [],
   "source": [
    "neo_matrix = {}\n",
    "select_columns = overall_scores.columns[2:]\n",
    "for col in select_columns:\n",
    "    neo_matrix[col] = {}\n",
    "    neo_matrix[col][\"distribution\"] = list(pd.cut(overall_scores[col], bins=10, precision=3).value_counts())\n",
    "    neo_matrix[col][\"min\"] = np.around(overall_scores[col].min(), 3)\n",
    "    neo_matrix[col][\"max\"] = np.around(overall_scores[col].max(), 3)\n",
    "    neo_matrix[col][\"mean\"] = np.around(overall_scores[col].mean(), 3)\n",
    "    discard, neo_matrix[col][\"bins\"] = list(pd.cut(overall_scores[col], bins=10, precision=3, retbins=True))\n",
    "    neo_matrix[col][\"bins\"] = np.around(neo_matrix[col][\"bins\"].tolist()[1:], 3)\n",
    "    base = [0, *neo_matrix[col][\"bins\"][:-1]]\n",
    "    neo_matrix[col][\"bins\"] = zip(base, neo_matrix[col][\"bins\"])\n",
    "    neo_matrix[col][\"bins\"] = list(neo_matrix[col][\"bins\"])\n",
    "    neo_matrix[col][\"first_quartile\"] = np.around(overall_scores[col].quantile(q=0.25, interpolation='midpoint'))\n",
    "    neo_matrix[col][\"third_quartile\"] = np.around(overall_scores[col].quantile(q=0.75, interpolation='midpoint'))"
   ]
  },
  {
   "cell_type": "code",
   "execution_count": 3,
   "id": "5e5bce34",
   "metadata": {},
   "outputs": [
    {
     "name": "stdout",
     "output_type": "stream",
     "text": [
      "{'Logsdon': {'distribution': [10961, 4424, 3915, 3383, 2638, 1722, 964, 611, 203, 32], 'min': 0.0, 'max': 5.978, 'mean': 1.369, 'bins': [(0, 0.598), (0.598, 1.196), (1.196, 1.794), (1.794, 2.391), (2.391, 2.989), (2.989, 3.587), (3.587, 4.185), (4.185, 4.783), (4.783, 5.381), (5.381, 5.978)], 'first_quartile': 0.0, 'third_quartile': 2.0, 'name': 'Overall Score', 'syn_id': 'syn25913473', 'wiki_id': '613107'}, 'GeneticsScore': {'distribution': [8884, 5123, 3896, 3883, 3618, 1727, 472, 86, 13, 2], 'min': 0.022, 'max': 3.0, 'mean': 0.751, 'bins': [(0, 0.32), (0.32, 0.618), (0.618, 0.915), (0.915, 1.213), (1.213, 1.511), (1.511, 1.809), (1.809, 2.107), (2.107, 2.404), (2.404, 2.702), (2.702, 3.0)], 'first_quartile': 0.0, 'third_quartile': 1.0, 'name': 'Genetics Score', 'syn_id': 'syn25913473', 'wiki_id': '613104'}, 'OmicsScore': {'distribution': [8333, 2068, 1304, 1206, 1084, 887, 758, 553, 447, 392], 'min': 0.0, 'max': 2.0, 'mean': 0.592, 'bins': [(0, 0.2), (0.2, 0.4), (0.4, 0.6), (0.6, 0.8), (0.8, 1.0), (1.0, 1.2), (1.2, 1.4), (1.4, 1.6), (1.6, 1.8), (1.8, 2.0)], 'first_quartile': 0.0, 'third_quartile': 1.0, 'name': 'Omics Score', 'syn_id': 'syn25913473', 'wiki_id': '613106'}, 'LiteratureScore': {'distribution': [10067, 1579, 1231, 1228, 817, 808, 806, 806, 416, 389], 'min': 0.0, 'max': 2.0, 'mean': 0.473, 'bins': [(0, 0.2), (0.2, 0.4), (0.4, 0.6), (0.6, 0.8), (0.8, 1.0), (1.0, 1.2), (1.2, 1.4), (1.4, 1.6), (1.6, 1.8), (1.8, 2.0)], 'first_quartile': 0.0, 'third_quartile': 1.0, 'name': 'Omics Score', 'syn_id': 'syn25913473', 'wiki_id': '613105'}}\n"
     ]
    }
   ],
   "source": [
    "additional_data = [{'name': 'Overall Score', 'syn_id': 'syn25913473', 'wiki_id': '613107'},\n",
    "                    {'name': 'Genetics Score', 'syn_id': 'syn25913473', 'wiki_id': '613104'},\n",
    "                    {'name': 'Omics Score', 'syn_id': 'syn25913473', 'wiki_id': '613106'},\n",
    "                    {'name': 'Omics Score', 'syn_id': 'syn25913473', 'wiki_id': '613105'}\n",
    "                  ]\n",
    "for col, additional in zip(neo_matrix.keys(), additional_data):\n",
    "    neo_matrix[col]['name'] = additional['name']\n",
    "    neo_matrix[col]['syn_id'] = additional['syn_id']\n",
    "    neo_matrix[col]['wiki_id'] = additional['wiki_id']\n",
    "    \n",
    "print(neo_matrix)\n"
   ]
  },
  {
   "cell_type": "code",
   "execution_count": 4,
   "id": "c6ba7874",
   "metadata": {},
   "outputs": [],
   "source": [
    "with open('../output/distribution_data.json', 'w') as outfile:\n",
    "    json.dump(neo_matrix, outfile)"
   ]
  },
  {
   "cell_type": "code",
   "execution_count": null,
   "id": "7fea6857",
   "metadata": {},
   "outputs": [],
   "source": []
  }
 ],
 "metadata": {
  "kernelspec": {
   "display_name": "Python 3",
   "language": "python",
   "name": "python3"
  },
  "language_info": {
   "codemirror_mode": {
    "name": "ipython",
    "version": 3
   },
   "file_extension": ".py",
   "mimetype": "text/x-python",
   "name": "python",
   "nbconvert_exporter": "python",
   "pygments_lexer": "ipython3",
   "version": "3.9.0"
  }
 },
 "nbformat": 4,
 "nbformat_minor": 5
}
